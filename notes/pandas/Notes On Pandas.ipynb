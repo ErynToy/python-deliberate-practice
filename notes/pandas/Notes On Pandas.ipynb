{
 "cells": [
  {
   "cell_type": "markdown",
   "metadata": {},
   "source": [
    "## Notes On Pandas"
   ]
  },
  {
   "cell_type": "markdown",
   "metadata": {},
   "source": [
    "## [Selection](http://pandas.pydata.org/pandas-docs/stable/cookbook.html#selection)\n",
    "\n",
    "- Use `.loc[row_lables, column_labels]` for [label-based indexing](http://pandas.pydata.org/pandas-docs/stable/generated/pandas.DataFrame.loc.html)\n",
    "- Use `.iloc[row_positions, column_positions]` for [positional indexing](http://pandas.pydata.org/pandas-docs/stable/generated/pandas.DataFrame.iloc.html)\n",
    "- Use `.ix` to [mix label-based and positional index](http://pandas.pydata.org/pandas-docs/stable/generated/pandas.DataFrame.ix.html)\n",
    "\n",
    "Explicit is better than implicit, so when using `.loc` and `.iloc`, always use `[ row_indices , column_indicies ]` accordingly"
   ]
  },
  {
   "cell_type": "markdown",
   "metadata": {},
   "source": [
    "## Index\n",
    "\n",
    "`Index`es are something of a peculiarity to pandas.\n",
    "First off, they are not the kind of indexes you'll find in SQL, which are used to help the engine speed up certain queries.\n",
    "\n",
    "In pandas, `Index`es are about lables. This helps with selection (like we did above) and automatic alignment when performing operations between two `DataFrame`s or `Series`.\n",
    "\n",
    "R does have row labels, but they're nowhere near as powerful (or complicated) as in pandas. You can access the index of a `DataFrame` or `Series` with the `.index` attribute."
   ]
  },
  {
   "cell_type": "markdown",
   "metadata": {},
   "source": [
    "#### Basic Operations\n",
    "\n",
    "`df.index`\n",
    "\n",
    "[`df.set_index`](http://pandas.pydata.org/pandas-docs/stable/indexing.html#set-an-index)\n",
    "\n",
    "[`df.reset_index`](http://pandas.pydata.org/pandas-docs/stable/indexing.html#reset-the-index)\n",
    "\n",
    "`df.sort_index`"
   ]
  },
  {
   "cell_type": "markdown",
   "metadata": {},
   "source": [
    "#### Boolean indexing\n",
    "\n",
    "Like a where clause in SQL. The indexer (or boolean mask) should be 1-dimensional and the same length as the thing being indexed."
   ]
  },
  {
   "cell_type": "markdown",
   "metadata": {},
   "source": [
    "## GROUP BY\n",
    "Groupby is a fundamental operation to pandas and data analysis.\n",
    "\n",
    "The components of a groupby operation are to\n",
    "\n",
    "1. Split a table into groups\n",
    "2. Apply a function to each groups\n",
    "3. Combine the results\n",
    "\n",
    "In pandas the first step looks like\n",
    "\n",
    "```python\n",
    "df.groupby( grouper )\n",
    "```\n",
    "\n",
    "`grouper` can be many things\n",
    "\n",
    "- Series (or string indicating a column in `df`)\n",
    "- function (to be applied on the index)\n",
    "- dict : groups by *values*\n",
    "- `levels=[]`, names of levels in a MultiIndex"
   ]
  },
  {
   "cell_type": "markdown",
   "metadata": {},
   "source": [
    "After the group by, you can apply aggregation function, typically, you can:\n",
    "\n",
    "* `df.groupby(grouper).column.<aggregation_function>`: this will only aggregte on a single column using a single agg function\n",
    "* `df.groupby(grouper).<aggregation_function>`: this will apply the same aggregation function to all columns\n",
    "* `df.groupby(grouper).column.agg(['agg_func_1', 'agg_func_2'...])`: this will only aggregate on a single column, but return multiple columns using different aggregation\n",
    "* `df.groupby(grouper).agg(['agg_func_1', 'agg_func_2'...])`: this will apply to all columns, several aggregation functions for each column (multi-column-index)"
   ]
  },
  {
   "cell_type": "markdown",
   "metadata": {},
   "source": [
    "## Tidy Data\n",
    "\n",
    "### The Rules\n",
    "\n",
    "In a tidy dataset...\n",
    "\n",
    "1. Each variable forms a column\n",
    "2. Each observation forms a row\n",
    "3. Each type of observational unit forms a table\n",
    "\n",
    "We'll cover a few methods that help you get there."
   ]
  },
  {
   "cell_type": "markdown",
   "metadata": {},
   "source": [
    "### Stack / Unstack\n",
    "* melt / stack: wide to long\n",
    "* pivot_table / unstack: long to wide"
   ]
  },
  {
   "cell_type": "code",
   "execution_count": null,
   "metadata": {
    "collapsed": true
   },
   "outputs": [],
   "source": []
  }
 ],
 "metadata": {
  "kernelspec": {
   "display_name": "Python 2",
   "language": "python",
   "name": "python2"
  },
  "language_info": {
   "codemirror_mode": {
    "name": "ipython",
    "version": 2
   },
   "file_extension": ".py",
   "mimetype": "text/x-python",
   "name": "python",
   "nbconvert_exporter": "python",
   "pygments_lexer": "ipython2",
   "version": "2.7.10"
  }
 },
 "nbformat": 4,
 "nbformat_minor": 1
}
